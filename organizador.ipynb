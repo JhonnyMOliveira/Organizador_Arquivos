{
 "cells": [
  {
   "cell_type": "markdown",
   "id": "f1a8b693",
   "metadata": {},
   "source": [
    "# 🗂️ Organizador de Arquivos por Tipo de Extensão\n",
    "\n",
    "Este projeto tem como objetivo **organizar automaticamente arquivos de uma pasta**, separando-os em subpastas baseadas na sua extensão.  \n",
    "O script utiliza o módulo `os` da biblioteca padrão Python para:\n",
    "\n",
    "- Listar arquivos existentes.\n",
    "- Identificar os diferentes tipos de arquivo.\n",
    "- Criar pastas correspondentes às extensões.\n",
    "- Mover cada arquivo para sua respectiva pasta.\n",
    "\n",
    "Essa automação ajuda a manter diretórios mais organizados de forma prática e rápida."
   ]
  },
  {
   "cell_type": "markdown",
   "id": "2b6fee82",
   "metadata": {},
   "source": [
    "### 📍 Preparação do Ambiente\n",
    "Importando o módulo `os`"
   ]
  },
  {
   "cell_type": "code",
   "execution_count": 58,
   "id": "9a948551",
   "metadata": {},
   "outputs": [],
   "source": [
    "import os  # Módulo responsável por interagir com o sistema operacional"
   ]
  },
  {
   "cell_type": "markdown",
   "id": "cee00ad9",
   "metadata": {},
   "source": [
    "Verificando o diretório de trabalho atual"
   ]
  },
  {
   "cell_type": "code",
   "execution_count": 59,
   "id": "3b54d0a4",
   "metadata": {},
   "outputs": [
    {
     "data": {
      "text/plain": [
       "'C:\\\\Users\\\\JhonnyOliveira\\\\Downloads'"
      ]
     },
     "execution_count": 59,
     "metadata": {},
     "output_type": "execute_result"
    }
   ],
   "source": [
    "os.getcwd()  # Retorna o caminho completo do diretório onde o script está sendo executado"
   ]
  },
  {
   "cell_type": "markdown",
   "id": "bdf2691e",
   "metadata": {},
   "source": [
    "Alterando o diretório para a pasta de interesse"
   ]
  },
  {
   "cell_type": "code",
   "execution_count": 60,
   "id": "7f5cbec6",
   "metadata": {},
   "outputs": [],
   "source": [
    "os.chdir(r\"C:\\Users\\JhonnyOliveira\\Downloads\")  # Mude para o diretório que deseja organizar"
   ]
  },
  {
   "cell_type": "markdown",
   "id": "56a28457",
   "metadata": {},
   "source": [
    "Confirmando o diretório atual"
   ]
  },
  {
   "cell_type": "code",
   "execution_count": 61,
   "id": "b2c83eaa",
   "metadata": {},
   "outputs": [
    {
     "data": {
      "text/plain": [
       "'C:\\\\Users\\\\JhonnyOliveira\\\\Downloads'"
      ]
     },
     "execution_count": 61,
     "metadata": {},
     "output_type": "execute_result"
    }
   ],
   "source": [
    "os.getcwd()  # Verifica se a mudança de diretório foi bem-sucedida"
   ]
  },
  {
   "cell_type": "markdown",
   "id": "cb45ec50",
   "metadata": {},
   "source": [
    "### 📄 Listando e Explorando os Arquivos\n",
    "Listando o conteúdo do diretório"
   ]
  },
  {
   "cell_type": "code",
   "execution_count": 62,
   "id": "bdc45037",
   "metadata": {},
   "outputs": [
    {
     "data": {
      "text/plain": [
       "['apresentação.pptx',\n",
       " 'documento01.docx',\n",
       " 'documento02.docx',\n",
       " 'filme01.mp4',\n",
       " 'filme02.mp4',\n",
       " 'intel-be2xx-ax4xx-ax2xx-9xxx-wi-fi-driver_89w84_win64_23.110.0.5_a60_02.exe',\n",
       " 'latitude_3420_latitude_3520_1.41.1.exe',\n",
       " 'msteamssetup.exe',\n",
       " 'musica01.mp3',\n",
       " 'musica02.mp3',\n",
       " 'officesetup.exe',\n",
       " 'planilha01.xlsx',\n",
       " 'planilha02.xlsx',\n",
       " 'script.py',\n",
       " 'supportassistlauncher.exe',\n",
       " 'text03.txt',\n",
       " 'texto01.txt',\n",
       " 'texto02.txt']"
      ]
     },
     "execution_count": 62,
     "metadata": {},
     "output_type": "execute_result"
    }
   ],
   "source": [
    "os.listdir()  # Retorna uma lista com todos os arquivos e pastas do diretório atual"
   ]
  },
  {
   "cell_type": "markdown",
   "id": "cd3d7522",
   "metadata": {},
   "source": [
    "Verificando o tipo do objeto retornado"
   ]
  },
  {
   "cell_type": "code",
   "execution_count": 63,
   "id": "7999b82a",
   "metadata": {},
   "outputs": [
    {
     "data": {
      "text/plain": [
       "list"
      ]
     },
     "execution_count": 63,
     "metadata": {},
     "output_type": "execute_result"
    }
   ],
   "source": [
    "type(os.listdir())  # Deve retornar <class 'list'>"
   ]
  },
  {
   "cell_type": "markdown",
   "id": "5f71bb36",
   "metadata": {},
   "source": [
    "### 🧹 Processando e Normalizando os Arquivos\n",
    "Criando a lista de arquivos normalizados"
   ]
  },
  {
   "cell_type": "code",
   "execution_count": 64,
   "id": "bfca4692",
   "metadata": {},
   "outputs": [
    {
     "data": {
      "text/plain": [
       "['apresentação.pptx',\n",
       " 'documento01.docx',\n",
       " 'documento02.docx',\n",
       " 'filme01.mp4',\n",
       " 'filme02.mp4',\n",
       " 'intel-be2xx-ax4xx-ax2xx-9xxx-wi-fi-driver_89w84_win64_23.110.0.5_a60_02.exe',\n",
       " 'latitude_3420_latitude_3520_1.41.1.exe',\n",
       " 'msteamssetup.exe',\n",
       " 'musica01.mp3',\n",
       " 'musica02.mp3',\n",
       " 'officesetup.exe',\n",
       " 'planilha01.xlsx',\n",
       " 'planilha02.xlsx',\n",
       " 'script.py',\n",
       " 'supportassistlauncher.exe',\n",
       " 'text03.txt',\n",
       " 'texto01.txt',\n",
       " 'texto02.txt']"
      ]
     },
     "execution_count": 64,
     "metadata": {},
     "output_type": "execute_result"
    }
   ],
   "source": [
    "lista_arquivos = [\n",
    "    arquivo.lower()\n",
    "    for arquivo in os.listdir()\n",
    "    if os.path.isfile(arquivo)\n",
    "]\n",
    "lista_arquivos  # Lista apenas os arquivos, convertendo nomes para minúsculo"
   ]
  },
  {
   "cell_type": "markdown",
   "id": "398da37f",
   "metadata": {},
   "source": [
    "💡 Obs.: A conversão para minúsculo evita duplicidade de pastas como \"TXT\" e \"txt\"."
   ]
  },
  {
   "cell_type": "markdown",
   "id": "476fccab",
   "metadata": {},
   "source": [
    "Testando o método `split()`"
   ]
  },
  {
   "cell_type": "code",
   "execution_count": 65,
   "id": "0d1c5ef8",
   "metadata": {},
   "outputs": [
    {
     "data": {
      "text/plain": [
       "['apresentação', 'pptx']"
      ]
     },
     "execution_count": 65,
     "metadata": {},
     "output_type": "execute_result"
    }
   ],
   "source": [
    "\"apresentação.pptx\".split('.')  # Divide o nome usando '.' como separador"
   ]
  },
  {
   "cell_type": "markdown",
   "id": "045eb8b0",
   "metadata": {},
   "source": [
    "Acessando o último elemento do split"
   ]
  },
  {
   "cell_type": "code",
   "execution_count": 66,
   "id": "ad3e221f",
   "metadata": {},
   "outputs": [
    {
     "data": {
      "text/plain": [
       "'pptx'"
      ]
     },
     "execution_count": 66,
     "metadata": {},
     "output_type": "execute_result"
    }
   ],
   "source": [
    "\"apresentação.pptx\".split('.')[-1]  # Retorna a extensão do arquivo"
   ]
  },
  {
   "cell_type": "markdown",
   "id": "ab9f5227",
   "metadata": {},
   "source": [
    "Gerando conjunto com tipos de arquivo"
   ]
  },
  {
   "cell_type": "code",
   "execution_count": 67,
   "id": "2c287ece",
   "metadata": {},
   "outputs": [
    {
     "data": {
      "text/plain": [
       "{'docx', 'exe', 'mp3', 'mp4', 'pptx', 'py', 'txt', 'xlsx'}"
      ]
     },
     "execution_count": 67,
     "metadata": {},
     "output_type": "execute_result"
    }
   ],
   "source": [
    "lista_tipos = {\n",
    "    tipo.split('.')[-1]\n",
    "    for tipo in lista_arquivos\n",
    "}\n",
    "lista_tipos  # Exibe as extensões únicas encontradas"
   ]
  },
  {
   "cell_type": "markdown",
   "id": "bd4d9cd8",
   "metadata": {},
   "source": [
    "Verificando o tipo do objeto gerado"
   ]
  },
  {
   "cell_type": "code",
   "execution_count": 68,
   "id": "fa086847",
   "metadata": {},
   "outputs": [
    {
     "data": {
      "text/plain": [
       "set"
      ]
     },
     "execution_count": 68,
     "metadata": {},
     "output_type": "execute_result"
    }
   ],
   "source": [
    "type(lista_tipos)  # Deve retornar <class 'set'>"
   ]
  },
  {
   "cell_type": "markdown",
   "id": "c61d63d5",
   "metadata": {},
   "source": [
    "### 📁 Criando Pastas por Tipo de Arquivo\n",
    "Criando as pastas caso não existam"
   ]
  },
  {
   "cell_type": "code",
   "execution_count": 69,
   "id": "5a06d4b1",
   "metadata": {},
   "outputs": [],
   "source": [
    "for tipo in lista_tipos:\n",
    "    if os.path.exists(tipo):\n",
    "        pass\n",
    "    else:\n",
    "        os.mkdir(tipo)"
   ]
  },
  {
   "cell_type": "markdown",
   "id": "a26e73d8",
   "metadata": {},
   "source": [
    "💡 Cada extensão vira o nome de uma subpasta."
   ]
  },
  {
   "cell_type": "markdown",
   "id": "7632a4f5",
   "metadata": {},
   "source": [
    "### 🚚 Movendo os Arquivos para Suas Pastas\n",
    "Movendo arquivos conforme sua extensão"
   ]
  },
  {
   "cell_type": "code",
   "execution_count": 70,
   "id": "01ff7f3d",
   "metadata": {},
   "outputs": [],
   "source": [
    "for arquivo in lista_arquivos:\n",
    "    pasta_destino = arquivo.split('.')[-1]  # Define a pasta baseada na extensão\n",
    "    de = os.path.join(os.getcwd(), arquivo)  # Caminho atual do arquivo\n",
    "    para = os.path.join(os.getcwd(), pasta_destino, arquivo)  # Caminho de destino\n",
    "    if os.path.exists(de):\n",
    "        os.replace(de, para)  # Move o arquivo"
   ]
  },
  {
   "cell_type": "markdown",
   "id": "9ed27ac4",
   "metadata": {},
   "source": [
    "⚠️ Cuidado ao executar: os arquivos são de fato movidos, não apenas copiados."
   ]
  },
  {
   "cell_type": "markdown",
   "id": "720a948a",
   "metadata": {},
   "source": [
    "## ✅ Resultado Esperado\n",
    "\n",
    "Ao final da execução:\n",
    "\n",
    "- Cada arquivo será movido para uma pasta correspondente à sua extensão.\n",
    "- O diretório ficará organizado de forma automática.\n",
    "\n",
    "Este projeto demonstra como usar a biblioteca padrão `os` para manipulação de arquivos e diretórios de maneira simples e eficiente."
   ]
  }
 ],
 "metadata": {
  "kernelspec": {
   "display_name": "base",
   "language": "python",
   "name": "python3"
  },
  "language_info": {
   "codemirror_mode": {
    "name": "ipython",
    "version": 3
   },
   "file_extension": ".py",
   "mimetype": "text/x-python",
   "name": "python",
   "nbconvert_exporter": "python",
   "pygments_lexer": "ipython3",
   "version": "3.12.7"
  }
 },
 "nbformat": 4,
 "nbformat_minor": 5
}
